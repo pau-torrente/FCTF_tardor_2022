{
 "cells": [
  {
   "cell_type": "code",
   "execution_count": 7,
   "metadata": {},
   "outputs": [
    {
     "data": {
      "text/html": [
       "<div>\n",
       "<style scoped>\n",
       "    .dataframe tbody tr th:only-of-type {\n",
       "        vertical-align: middle;\n",
       "    }\n",
       "\n",
       "    .dataframe tbody tr th {\n",
       "        vertical-align: top;\n",
       "    }\n",
       "\n",
       "    .dataframe thead th {\n",
       "        text-align: right;\n",
       "    }\n",
       "</style>\n",
       "<table border=\"1\" class=\"dataframe\">\n",
       "  <thead>\n",
       "    <tr style=\"text-align: right;\">\n",
       "      <th></th>\n",
       "      <th>L</th>\n",
       "      <th>TEMP</th>\n",
       "      <th>SUM</th>\n",
       "      <th>SUME</th>\n",
       "      <th>SUME2</th>\n",
       "      <th>VARE</th>\n",
       "      <th>SUMM</th>\n",
       "      <th>SUMAM</th>\n",
       "      <th>SUMM2</th>\n",
       "      <th>VARM</th>\n",
       "      <th>DELTAE</th>\n",
       "      <th>DELTAT</th>\n",
       "    </tr>\n",
       "  </thead>\n",
       "  <tbody>\n",
       "    <tr>\n",
       "      <th>0</th>\n",
       "      <td>12</td>\n",
       "      <td>2.00</td>\n",
       "      <td>375.0</td>\n",
       "      <td>-251.264000</td>\n",
       "      <td>63519.488000</td>\n",
       "      <td>385.890304</td>\n",
       "      <td>-131.114667</td>\n",
       "      <td>131.114667</td>\n",
       "      <td>17297.728000</td>\n",
       "      <td>106.672185</td>\n",
       "      <td>-251.264000</td>\n",
       "      <td>0.05</td>\n",
       "    </tr>\n",
       "    <tr>\n",
       "      <th>1</th>\n",
       "      <td>12</td>\n",
       "      <td>2.05</td>\n",
       "      <td>375.0</td>\n",
       "      <td>-247.360000</td>\n",
       "      <td>61657.514667</td>\n",
       "      <td>470.545067</td>\n",
       "      <td>129.200000</td>\n",
       "      <td>129.200000</td>\n",
       "      <td>16884.341333</td>\n",
       "      <td>191.701333</td>\n",
       "      <td>3.904000</td>\n",
       "      <td>0.05</td>\n",
       "    </tr>\n",
       "    <tr>\n",
       "      <th>2</th>\n",
       "      <td>12</td>\n",
       "      <td>2.10</td>\n",
       "      <td>375.0</td>\n",
       "      <td>-239.008000</td>\n",
       "      <td>57675.562667</td>\n",
       "      <td>550.738603</td>\n",
       "      <td>125.786667</td>\n",
       "      <td>125.786667</td>\n",
       "      <td>15992.864000</td>\n",
       "      <td>170.578489</td>\n",
       "      <td>8.352000</td>\n",
       "      <td>0.05</td>\n",
       "    </tr>\n",
       "    <tr>\n",
       "      <th>3</th>\n",
       "      <td>12</td>\n",
       "      <td>2.15</td>\n",
       "      <td>375.0</td>\n",
       "      <td>-232.938667</td>\n",
       "      <td>54891.349333</td>\n",
       "      <td>630.926905</td>\n",
       "      <td>121.856000</td>\n",
       "      <td>121.856000</td>\n",
       "      <td>15130.005333</td>\n",
       "      <td>281.120597</td>\n",
       "      <td>6.069333</td>\n",
       "      <td>0.05</td>\n",
       "    </tr>\n",
       "    <tr>\n",
       "      <th>4</th>\n",
       "      <td>12</td>\n",
       "      <td>2.20</td>\n",
       "      <td>375.0</td>\n",
       "      <td>-227.562667</td>\n",
       "      <td>52427.178667</td>\n",
       "      <td>642.411406</td>\n",
       "      <td>119.664000</td>\n",
       "      <td>119.664000</td>\n",
       "      <td>14603.786667</td>\n",
       "      <td>284.313771</td>\n",
       "      <td>5.376000</td>\n",
       "      <td>0.05</td>\n",
       "    </tr>\n",
       "  </tbody>\n",
       "</table>\n",
       "</div>"
      ],
      "text/plain": [
       "    L  TEMP    SUM        SUME         SUME2        VARE        SUMM  \\\n",
       "0  12  2.00  375.0 -251.264000  63519.488000  385.890304 -131.114667   \n",
       "1  12  2.05  375.0 -247.360000  61657.514667  470.545067  129.200000   \n",
       "2  12  2.10  375.0 -239.008000  57675.562667  550.738603  125.786667   \n",
       "3  12  2.15  375.0 -232.938667  54891.349333  630.926905  121.856000   \n",
       "4  12  2.20  375.0 -227.562667  52427.178667  642.411406  119.664000   \n",
       "\n",
       "        SUMAM         SUMM2        VARM      DELTAE  DELTAT  \n",
       "0  131.114667  17297.728000  106.672185 -251.264000    0.05  \n",
       "1  129.200000  16884.341333  191.701333    3.904000    0.05  \n",
       "2  125.786667  15992.864000  170.578489    8.352000    0.05  \n",
       "3  121.856000  15130.005333  281.120597    6.069333    0.05  \n",
       "4  119.664000  14603.786667  284.313771    5.376000    0.05  "
      ]
     },
     "execution_count": 7,
     "metadata": {},
     "output_type": "execute_result"
    }
   ],
   "source": [
    "import pandas as pd\n",
    "\n",
    "columns = 'L TEMP SUM SUME SUME2 VARE SUMM SUMAM SUMM2 VARM DELTAE DELTAT'\n",
    "data = pd.read_csv('pau_torrente_badia.res', header = None, delim_whitespace=True, names = columns.split(' '))\n",
    "\n",
    "data.head()\n",
    "\n"
   ]
  },
  {
   "cell_type": "code",
   "execution_count": null,
   "metadata": {},
   "outputs": [],
   "source": [
    "with open('data.res', mode='x') as file:\n",
    "    "
   ]
  },
  {
   "cell_type": "code",
   "execution_count": 14,
   "metadata": {},
   "outputs": [],
   "source": [
    "import numpy as np\n",
    "\n",
    "a = np.array(data)\n",
    "\n",
    "a = a[a[:, 0] == 60, :]\n",
    "\n",
    "b = a[a[:, 1].argsort()]"
   ]
  },
  {
   "cell_type": "code",
   "execution_count": 15,
   "metadata": {},
   "outputs": [
    {
     "data": {
      "text/plain": [
       "[<matplotlib.lines.Line2D at 0x15d675b1730>]"
      ]
     },
     "execution_count": 15,
     "metadata": {},
     "output_type": "execute_result"
    },
    {
     "data": {
      "image/png": "[encoded data removed]",
      "text/plain": [
       "<Figure size 640x480 with 1 Axes>"
      ]
     },
     "metadata": {},
     "output_type": "display_data"
    }
   ],
   "source": [
    "import matplotlib.pyplot as plt\n",
    "\n",
    "import plotly as px\n",
    "\n",
    "\n",
    "\n",
    "plt.plot(b[:, 1], (b[:, 4]-b[:, 3]**2)/(b[:, 1]*72*72))"
   ]
  },
  {
   "cell_type": "code",
   "execution_count": null,
   "metadata": {},
   "outputs": [],
   "source": []
  }
 ],
 "metadata": {
  "kernelspec": {
   "display_name": "base",
   "language": "python",
   "name": "python3"
  },
  "language_info": {
   "codemirror_mode": {
    "name": "ipython",
    "version": 3
   },
   "file_extension": ".py",
   "mimetype": "text/x-python",
   "name": "python",
   "nbconvert_exporter": "python",
   "pygments_lexer": "ipython3",
   "version": "3.9.13"
  },
  "orig_nbformat": 4,
  "vscode": {
   "interpreter": {
    "hash": "229030349aa529387a8abad67d4fcf74a357059d1ead22cdfbf93548f1645e15"
   }
  }
 },
 "nbformat": 4,
 "nbformat_minor": 2
}
