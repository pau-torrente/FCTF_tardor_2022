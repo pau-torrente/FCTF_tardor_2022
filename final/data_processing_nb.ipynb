{
 "cells": [
  {
   "cell_type": "code",
   "execution_count": 6,
   "metadata": {},
   "outputs": [],
   "source": [
    "import pandas as pd\n",
    "import numpy as np\n",
    "import matplotlib as mbl\n",
    "import matplotlib.pyplot as plt\n",
    "import os\n",
    "import shutil\n",
    "\n",
    "\n",
    "directories = ['final/data_exes_002/data', 'final/data_exes_0005/data']\n",
    "\n",
    "check = True\n",
    "\n",
    "for directory in directories:\n",
    "\n",
    "    for filename in os.listdir(directory):\n",
    "\n",
    "        f = os.path.join(directory, filename)\n",
    "        \n",
    "        if os.path.isfile(f):\n",
    "\n",
    "            if check:\n",
    "\n",
    "                columns = 'L TEMP SUM SUME SUME2 VARE SUMM SUMAM SUMM2 VARM DELTAE DELTAT'\n",
    "                data = pd.read_csv(f, header = None, delim_whitespace=True, names = columns.split(' '))\n",
    "                check = False\n",
    "\n",
    "            else:\n",
    "\n",
    "                new_data = pd.read_csv(f, header = None, delim_whitespace=True, names = columns.split(' '))\n",
    "                data = pd.concat(data, new_data)\n",
    "\n",
    "\n",
    "data_matrix = np.array(data.sort_values(by=['L','TEMP']))\n",
    "\n",
    "empty = np.array([[]])\n",
    "with open(\"processed_pau_torrente_badia.txt\", \"ab\") as f:\n",
    "\n",
    "    for L in range(12,84,12):\n",
    "        \n",
    "        data_matrix_byL = data_matrix[data_matrix[:, 0] == L, :]\n",
    "        np.savetxt(f, data_matrix_byL)\n",
    "        np.savetxt(f, empty)\n",
    "        np.savetxt(f, empty)\n",
    "\n"
   ]
  },
  {
   "cell_type": "code",
   "execution_count": null,
   "metadata": {},
   "outputs": [],
   "source": []
  }
 ],
 "metadata": {
  "kernelspec": {
   "display_name": "base",
   "language": "python",
   "name": "python3"
  },
  "language_info": {
   "codemirror_mode": {
    "name": "ipython",
    "version": 3
   },
   "file_extension": ".py",
   "mimetype": "text/x-python",
   "name": "python",
   "nbconvert_exporter": "python",
   "pygments_lexer": "ipython3",
   "version": "3.9.13 (main, Aug 25 2022, 23:51:50) [MSC v.1916 64 bit (AMD64)]"
  },
  "orig_nbformat": 4,
  "vscode": {
   "interpreter": {
    "hash": "229030349aa529387a8abad67d4fcf74a357059d1ead22cdfbf93548f1645e15"
   }
  }
 },
 "nbformat": 4,
 "nbformat_minor": 2
}
